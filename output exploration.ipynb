{
 "cells": [
  {
   "cell_type": "markdown",
   "metadata": {},
   "source": [
    "Should be put where the directory 'output'is , i.e. the directory that contains all output images"
   ]
  },
  {
   "cell_type": "code",
   "execution_count": null,
   "metadata": {},
   "outputs": [],
   "source": [
    "from itertools import product\n",
    "from PIL import Image\n",
    "import os\n",
    "import matplotlib.pyplot as plt\n",
    "from ipywidgets import interact, interactive, fixed, interact_manual\n",
    "import ipywidgets as widgets\n",
    "import numpy as np\n",
    "from IPython.display import display, clear_output"
   ]
  },
  {
   "cell_type": "code",
   "execution_count": null,
   "metadata": {},
   "outputs": [],
   "source": [
    "CONTENT = 'tubingen.jpg'\n",
    "STYLE = 'starry-night.jpg'\n",
    "\n",
    "CONTENT_LAYERS = ['conv5_2',\n",
    "                  'conv4_2',\n",
    "                  'conv3_2',\n",
    "                  'conv2_2']\n",
    "\n",
    "STYLE_LAYERS = ['conv1_1,conv2_1,conv3_1,conv4_1,conv5_1', # all style, first\n",
    "                'conv3_1,conv4_1,conv5_1',                 # high level style\n",
    "                'conv1_2,conv2_2,conv3_2,conv4_2,conv5_2', # all style, second\n",
    "                'conv1_2,conv2_2,conv3_4,conv4_4,conv5_4'] # all style, third\n",
    "\n",
    "INIT = ['random', \n",
    "        'image']\n",
    "\n",
    "STYLE_WEIGHTS = ['5', \n",
    "                 '100', \n",
    "                 '500', \n",
    "                 '2000']\n",
    "\n",
    "OPTIMIZERS = ['Adam', \n",
    "              'L-BFGS']\n",
    "\n",
    "NUM_ITERATIONS = '1000'\n",
    "\n",
    "TV_WEIGHTS = ['0.00001', \n",
    "              '0.1', \n",
    "              '10']"
   ]
  },
  {
   "cell_type": "code",
   "execution_count": null,
   "metadata": {},
   "outputs": [],
   "source": [
    "img1 = None\n",
    "img2 = None\n",
    "\n",
    "def plot_image(cont, style, init, style_weight, optimizer, tv_weight, n):\n",
    "    global img1, img2\n",
    "    folder_name = os.path.join('output', cont, style, str(style_weight), optimizer, init, str(tv_weight))\n",
    "    filename = os.path.basename(CONTENT)[:-4] + '_' + os.path.basename(STYLE)[:-4] + '.jpg'\n",
    "    if n == 1:\n",
    "        img1 = Image.open(os.path.join(folder_name, filename))\n",
    "        plt.imshow(img1)\n",
    "    else:\n",
    "        img2 = Image.open(os.path.join(folder_name, filename))\n",
    "        plt.imshow(img2)"
   ]
  },
  {
   "cell_type": "code",
   "execution_count": null,
   "metadata": {},
   "outputs": [],
   "source": [
    "# Plot an image...\n",
    "plot_image(CONTENT_LAYERS[0], STYLE_LAYERS[0], INIT[0], STYLE_WEIGHTS[0], OPTIMIZERS[0], TV_WEIGHTS[0], 1)"
   ]
  },
  {
   "cell_type": "code",
   "execution_count": null,
   "metadata": {},
   "outputs": [],
   "source": [
    "def interpolate_images(alpha):\n",
    "    pixels1 = list(img1.getdata())\n",
    "    pixels2 = list(img2.getdata())\n",
    "    interpolate_channels = lambda c1,c2,a: int(c1*(1-a) + c2*a)\n",
    "    new_pixels = [(interpolate_channels(p1[0],p2[0],alpha),\n",
    "                   interpolate_channels(p1[1],p2[1],alpha),\n",
    "                   interpolate_channels(p1[2],p2[2],alpha)) for p1,p2 in zip(pixels1, pixels2)]\n",
    "    new_img = img1.copy()\n",
    "    new_img.putdata(new_pixels)\n",
    "    plt.imshow(new_img)"
   ]
  },
  {
   "cell_type": "code",
   "execution_count": null,
   "metadata": {},
   "outputs": [],
   "source": [
    "interact(\n",
    "    plot_image,\n",
    "    cont=CONTENT_LAYERS,\n",
    "    style=STYLE_LAYERS,\n",
    "    init=INIT,\n",
    "    style_weight=STYLE_WEIGHTS,\n",
    "    optimizer=OPTIMIZERS,\n",
    "    tv_weight=TV_WEIGHTS,\n",
    "    n=1\n",
    ")\n",
    "interact(\n",
    "    plot_image,\n",
    "    cont=CONTENT_LAYERS,\n",
    "    style=STYLE_LAYERS,\n",
    "    init=INIT,\n",
    "    style_weight=STYLE_WEIGHTS,\n",
    "    optimizer=OPTIMIZERS,\n",
    "    tv_weight=TV_WEIGHTS,\n",
    "    n=2\n",
    ")\n",
    "interact(interpolate_images,\n",
    "         alpha=(0.,1.,0.05))"
   ]
  },
  {
   "cell_type": "code",
   "execution_count": null,
   "metadata": {},
   "outputs": [],
   "source": [
    "\"\"\"\n",
    "# Animation\n",
    "for alpha in np.arange(0.,1.,0.05):\n",
    "    img = interpolate_images(alpha)\n",
    "    clear_output(wait=True)\n",
    "    display(img)\n",
    "    \n",
    "plt.show()\n",
    "\"\"\""
   ]
  },
  {
   "cell_type": "code",
   "execution_count": null,
   "metadata": {},
   "outputs": [],
   "source": []
  }
 ],
 "metadata": {
  "kernelspec": {
   "display_name": "Python 3",
   "language": "python",
   "name": "python3"
  },
  "language_info": {
   "codemirror_mode": {
    "name": "ipython",
    "version": 3
   },
   "file_extension": ".py",
   "mimetype": "text/x-python",
   "name": "python",
   "nbconvert_exporter": "python",
   "pygments_lexer": "ipython3",
   "version": "3.6.5"
  }
 },
 "nbformat": 4,
 "nbformat_minor": 2
}
